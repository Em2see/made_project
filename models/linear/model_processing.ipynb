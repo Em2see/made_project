{
  "nbformat": 4,
  "nbformat_minor": 0,
  "metadata": {
    "colab": {
      "name": "model_processing.ipynb",
      "provenance": [],
      "collapsed_sections": []
    },
    "kernelspec": {
      "display_name": "Python 3",
      "language": "python",
      "name": "python3"
    },
    "language_info": {
      "codemirror_mode": {
        "name": "ipython",
        "version": 3
      },
      "file_extension": ".py",
      "mimetype": "text/x-python",
      "name": "python",
      "nbconvert_exporter": "python",
      "pygments_lexer": "ipython3",
      "version": "3.6.8"
    }
  },
  "cells": [
    {
      "cell_type": "code",
      "metadata": {
        "id": "qaCpq32O5tyZ"
      },
      "source": [
        "import pandas as pd\n",
        "import numpy as np\n",
        "import warnings\n",
        "from model import Model\n",
        "warnings.simplefilter(\"ignore\")"
      ],
      "execution_count": 1,
      "outputs": []
    },
    {
      "cell_type": "code",
      "metadata": {
        "id": "u6Doc2rR6K43"
      },
      "source": [
        "def wrmse(spd_predict, spd, subs, util=None):\n",
        "    return np.sqrt(np.sum( ((spd_predict - spd) * subs)**2) / np.sum(subs**2))"
      ],
      "execution_count": 2,
      "outputs": []
    },
    {
      "cell_type": "code",
      "metadata": {
        "id": "cvIXbVa62fSd"
      },
      "source": [
        "test = pd.read_csv('./test_20161101_20170301.csv', sep=';')\n",
        "test['cap'] = test['cap'].apply(lambda x: float(str(x).replace(\",\",\".\")))\n",
        "test.sort_values(['ID', 'date_', 'tech'], inplace=True)\t\n",
        "\n",
        "test_real = pd.read_csv('./test_proove_20161101_20170301.csv', sep=';')\n",
        "test_real['spd'] = test_real['spd'].apply(lambda x: float(str(x).replace(\",\",\".\")))\n",
        "test_real['trf'] = test_real['spd'].apply(lambda x: float(str(x).replace(\",\",\".\")))\n",
        "test_real['subs'] = test_real['subs'].apply(lambda x: float(str(x).replace(\",\",\".\")))\n",
        "test_real.sort_values(['ID', 'date_', 'tech'], inplace=True)\n",
        "\n",
        "train = pd.read_csv('./train_20160103_20161101.csv', sep=';')\n",
        "train['spd'] = train['spd'].apply(lambda x: float(str(x).replace(\",\",\".\")))\n",
        "train['trf'] = train['spd'].apply(lambda x: float(str(x).replace(\",\",\".\")))\n",
        "train['cap'] = train['cap'].apply(lambda x: float(str(x).replace(\",\",\".\")))\n",
        "train['subs'] = train['subs'].apply(lambda x: float(str(x).replace(\",\",\".\")))\n",
        "train.sort_values(['ID', 'date_', 'tech'], inplace=True)"
      ],
      "execution_count": 3,
      "outputs": []
    },
    {
      "cell_type": "code",
      "metadata": {
        "id": "xZ3VtD_H2fUy"
      },
      "source": [
        "model = Model()\n",
        "model.train(train)\n",
        "spd = model.predict(test)"
      ],
      "execution_count": 4,
      "outputs": []
    },
    {
      "cell_type": "code",
      "metadata": {
        "id": "znhfpqEX2fXB"
      },
      "source": [
        "test_real['spd_pred'] = spd"
      ],
      "execution_count": 5,
      "outputs": []
    },
    {
      "cell_type": "code",
      "metadata": {
        "id": "z1aLTLWz6SxU"
      },
      "source": [
        "test_feb_real = test_real[(test_real['date_']>='2017-02-01') & (test_real['date_']<'2017-03-01')]"
      ],
      "execution_count": 6,
      "outputs": []
    },
    {
      "cell_type": "code",
      "metadata": {
        "id": "BIWtInnx6S0P",
        "colab": {
          "base_uri": "https://localhost:8080/"
        },
        "outputId": "9fb203fe-8e42-4235-d8f4-89eb09d77403"
      },
      "source": [
        "wrmse(test_real.spd, test_real.spd_pred, test_real.subs)"
      ],
      "execution_count": 7,
      "outputs": [
        {
          "output_type": "execute_result",
          "data": {
            "text/plain": [
              "6.238934392642882"
            ]
          },
          "metadata": {
            "tags": []
          },
          "execution_count": 7
        }
      ]
    },
    {
      "cell_type": "code",
      "metadata": {
        "id": "H55VDx3h68Mt",
        "colab": {
          "base_uri": "https://localhost:8080/"
        },
        "outputId": "6b455d5a-0198-4975-c9a2-32d530124247"
      },
      "source": [
        "wrmse(test_feb_real.spd, test_feb_real.spd_pred, test_feb_real.subs)"
      ],
      "execution_count": 8,
      "outputs": [
        {
          "output_type": "execute_result",
          "data": {
            "text/plain": [
              "6.61981060769997"
            ]
          },
          "metadata": {
            "tags": []
          },
          "execution_count": 8
        }
      ]
    },
    {
      "cell_type": "code",
      "metadata": {
        "id": "_BEvhSPLC8b9"
      },
      "source": [
        "base_list = set(train['ID'].tolist())"
      ],
      "execution_count": 9,
      "outputs": []
    },
    {
      "cell_type": "code",
      "metadata": {
        "id": "uWWtzBLMC8fm"
      },
      "source": [
        "test_feb_real_exist = test_real[(test_real['date_']>='2017-02-01') & (test_real['date_']<'2017-03-01')&(test_real['ID'].isin(base_list))]"
      ],
      "execution_count": 10,
      "outputs": []
    },
    {
      "cell_type": "code",
      "metadata": {
        "id": "fhuaKJAlC8kO",
        "colab": {
          "base_uri": "https://localhost:8080/"
        },
        "outputId": "c1309808-ac69-498d-a642-146fa9115cfb"
      },
      "source": [
        "wrmse(test_feb_real_exist.spd, test_feb_real_exist.spd_pred, test_feb_real_exist.subs)"
      ],
      "execution_count": 11,
      "outputs": [
        {
          "output_type": "execute_result",
          "data": {
            "text/plain": [
              "5.9841174363489245"
            ]
          },
          "metadata": {
            "tags": []
          },
          "execution_count": 11
        }
      ]
    }
  ]
}